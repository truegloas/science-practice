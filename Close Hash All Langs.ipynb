{
 "cells": [
  {
   "cell_type": "code",
   "execution_count": 1,
   "metadata": {},
   "outputs": [],
   "source": [
    "from hash_tables.HashXOR import HashXOR\n",
    "from hash_tables.HashRemainderDivision import HashRemainderDivision\n",
    "from measure_time.utils import research_time\n",
    "from utils import read_data_txt\n",
    "\n",
    "import numpy as np\n",
    "import pandas as pd\n",
    "import time"
   ]
  },
  {
   "cell_type": "code",
   "execution_count": 3,
   "metadata": {},
   "outputs": [
    {
     "data": {
      "text/plain": [
       "590302"
      ]
     },
     "execution_count": 3,
     "metadata": {},
     "output_type": "execute_result"
    }
   ],
   "source": [
    "len(testing_data)"
   ]
  },
  {
   "cell_type": "code",
   "execution_count": 4,
   "metadata": {},
   "outputs": [
    {
     "name": "stdout",
     "output_type": "stream",
     "text": [
      "362173 450245\n"
     ]
    }
   ],
   "source": [
    "hash_tables_sizes = [701, 10315, 25317, 51739]\n",
    "langs = ['eng', 'rus']\n",
    "shift = hash_tables_sizes[-1:][0] * 7\n",
    "df_ordinary = pd.DataFrame()\n",
    "\n",
    "print(shift, shift + 701 + 10315 + 25317 + 51739)"
   ]
  },
  {
   "cell_type": "code",
   "execution_count": 5,
   "metadata": {},
   "outputs": [
    {
     "name": "stdout",
     "output_type": "stream",
     "text": [
      "Wall time: 4h 26min 16s\n"
     ]
    }
   ],
   "source": [
    "%%time\n",
    "\n",
    "for lang in langs:\n",
    "    testing_data = read_data_txt('test_data/test_{}.txt'.format(lang))\n",
    "    for i in range(8):\n",
    "        shift = hash_tables_sizes[-1:][0] * i\n",
    "        df_ordinary = pd.DataFrame()\n",
    "        for size in hash_tables_sizes:\n",
    "            hashers = {'Remainder_Division' : HashRemainderDivision(size=size),\n",
    "                       'XOR' : HashXOR(size=size)}\n",
    "            df_ordinary = research_time(hashers, testing_data, shift=shift)\n",
    "            df_ordinary.to_csv('out_data/{}/out_{}_shift-{}.csv'.format(lang, size, shift), \n",
    "                               index=False)\n",
    "            shift += size\n",
    "            pass\n",
    "        pass\n",
    "    pass"
   ]
  },
  {
   "cell_type": "code",
   "execution_count": 6,
   "metadata": {},
   "outputs": [
    {
     "name": "stdout",
     "output_type": "stream",
     "text": [
      "5.296875\n",
      "3.96875\n",
      "3.515625\n",
      "0.40625\n",
      "2.484375\n",
      "2.390625\n"
     ]
    }
   ],
   "source": [
    "print(df_ordinary['Remainder_Division_insert'].max())\n",
    "print(df_ordinary['XOR_insert'].max())\n",
    "print(df_ordinary['Remainder_Division_find'].max())\n",
    "print(df_ordinary['XOR_find'].max())\n",
    "print(df_ordinary['Remainder_Division_delete'].max())\n",
    "print(df_ordinary['XOR_delete'].max())"
   ]
  }
 ],
 "metadata": {
  "kernelspec": {
   "display_name": "Python 3",
   "language": "python",
   "name": "python3"
  },
  "language_info": {
   "codemirror_mode": {
    "name": "ipython",
    "version": 3
   },
   "file_extension": ".py",
   "mimetype": "text/x-python",
   "name": "python",
   "nbconvert_exporter": "python",
   "pygments_lexer": "ipython3",
   "version": "3.8.5"
  }
 },
 "nbformat": 4,
 "nbformat_minor": 4
}
